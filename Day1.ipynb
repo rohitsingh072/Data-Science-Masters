{
 "cells": [
  {
   "cell_type": "markdown",
   "id": "e183c693-78b3-436a-aacc-b263ce6ceeb8",
   "metadata": {},
   "source": [
    "# numbers"
   ]
  },
  {
   "cell_type": "code",
   "execution_count": 11,
   "id": "9be40416-4693-49ca-96ec-a0b310555cc3",
   "metadata": {},
   "outputs": [
    {
     "name": "stdout",
     "output_type": "stream",
     "text": [
      "4\n"
     ]
    }
   ],
   "source": [
    "print(1+3)"
   ]
  },
  {
   "cell_type": "code",
   "execution_count": 12,
   "id": "6ea25c95-7712-4368-8d8b-3c3493ce98af",
   "metadata": {},
   "outputs": [
    {
     "name": "stdout",
     "output_type": "stream",
     "text": [
      "5\n"
     ]
    }
   ],
   "source": [
    "a=5\n",
    "print(a)"
   ]
  },
  {
   "cell_type": "code",
   "execution_count": 13,
   "id": "a18f6206-ce5b-4b9c-8ac3-21fb815d43a9",
   "metadata": {},
   "outputs": [
    {
     "name": "stdout",
     "output_type": "stream",
     "text": [
      " hello world my name is rohit\n"
     ]
    }
   ],
   "source": [
    "print(\" hello world my name is rohit\")"
   ]
  },
  {
   "cell_type": "code",
   "execution_count": 14,
   "id": "cff633d7-ecdd-4928-81ff-c77126b2b89d",
   "metadata": {},
   "outputs": [
    {
     "name": "stdout",
     "output_type": "stream",
     "text": [
      " hello world my name \n",
      " is rohit\n"
     ]
    }
   ],
   "source": [
    "print(\" hello world my name \\n is rohit\")"
   ]
  },
  {
   "cell_type": "markdown",
   "id": "beab551f-3c25-4773-830a-eebbd3dddacd",
   "metadata": {},
   "source": [
    "## variable assignement"
   ]
  },
  {
   "cell_type": "code",
   "execution_count": 17,
   "id": "e52c9d0e-2036-477d-97c5-c23f6a9a6587",
   "metadata": {},
   "outputs": [],
   "source": [
    "name=\"rohit\"\n",
    "company=\"jio\""
   ]
  },
  {
   "cell_type": "code",
   "execution_count": 18,
   "id": "384ca070-3ec2-41a7-9191-2c51953e4d77",
   "metadata": {},
   "outputs": [
    {
     "data": {
      "text/plain": [
       "'jio'"
      ]
     },
     "execution_count": 18,
     "metadata": {},
     "output_type": "execute_result"
    }
   ],
   "source": [
    "company"
   ]
  },
  {
   "cell_type": "code",
   "execution_count": 19,
   "id": "c820cd7c-5ab8-4ae8-b530-779e00f36657",
   "metadata": {},
   "outputs": [],
   "source": [
    "name=\"bala\""
   ]
  },
  {
   "cell_type": "code",
   "execution_count": 20,
   "id": "509cf061-7cb5-4cb2-9181-1464429c66c8",
   "metadata": {},
   "outputs": [
    {
     "data": {
      "text/plain": [
       "'bala'"
      ]
     },
     "execution_count": 20,
     "metadata": {},
     "output_type": "execute_result"
    }
   ],
   "source": [
    "name"
   ]
  },
  {
   "cell_type": "code",
   "execution_count": 21,
   "id": "202ab87e-898a-4c0b-a9ec-7a926e6a98fa",
   "metadata": {},
   "outputs": [],
   "source": [
    "number=20"
   ]
  },
  {
   "cell_type": "code",
   "execution_count": 22,
   "id": "39c0afd4-3638-4801-87c1-33c28119df8d",
   "metadata": {},
   "outputs": [
    {
     "data": {
      "text/plain": [
       "20"
      ]
     },
     "execution_count": 22,
     "metadata": {},
     "output_type": "execute_result"
    }
   ],
   "source": [
    "number"
   ]
  },
  {
   "cell_type": "code",
   "execution_count": 24,
   "id": "d20993fc-46b5-46fb-a0d8-b226d8768447",
   "metadata": {},
   "outputs": [
    {
     "data": {
      "text/plain": [
       "str"
      ]
     },
     "execution_count": 24,
     "metadata": {},
     "output_type": "execute_result"
    }
   ],
   "source": [
    "type (\"rohit\")"
   ]
  },
  {
   "cell_type": "code",
   "execution_count": 25,
   "id": "1377fec8-58dc-4a8b-a778-10cf7fef3c09",
   "metadata": {},
   "outputs": [
    {
     "data": {
      "text/plain": [
       "int"
      ]
     },
     "execution_count": 25,
     "metadata": {},
     "output_type": "execute_result"
    }
   ],
   "source": [
    "type(number)"
   ]
  },
  {
   "cell_type": "code",
   "execution_count": 26,
   "id": "3ed88971-caef-4bd9-bc87-0b45cb061f3c",
   "metadata": {},
   "outputs": [],
   "source": [
    "decimal =2.5"
   ]
  },
  {
   "cell_type": "code",
   "execution_count": 27,
   "id": "a9b11448-e744-4f4f-9311-0d31ba2c2a01",
   "metadata": {},
   "outputs": [
    {
     "data": {
      "text/plain": [
       "float"
      ]
     },
     "execution_count": 27,
     "metadata": {},
     "output_type": "execute_result"
    }
   ],
   "source": [
    "type(decimal)"
   ]
  },
  {
   "cell_type": "code",
   "execution_count": 28,
   "id": "fe9813fd-c9bc-447f-be1f-5284d6426dbb",
   "metadata": {},
   "outputs": [
    {
     "data": {
      "text/plain": [
       "2.5"
      ]
     },
     "execution_count": 28,
     "metadata": {},
     "output_type": "execute_result"
    }
   ],
   "source": [
    "decimal"
   ]
  },
  {
   "cell_type": "code",
   "execution_count": 29,
   "id": "85fda5a5-d94d-4f35-aa85-40901393102e",
   "metadata": {},
   "outputs": [
    {
     "data": {
      "text/plain": [
       "(1+2j)"
      ]
     },
     "execution_count": 29,
     "metadata": {},
     "output_type": "execute_result"
    }
   ],
   "source": [
    "1+2j"
   ]
  },
  {
   "cell_type": "code",
   "execution_count": 30,
   "id": "0b048b12-ab93-4643-b5e6-45a3a09f69d7",
   "metadata": {},
   "outputs": [
    {
     "data": {
      "text/plain": [
       "complex"
      ]
     },
     "execution_count": 30,
     "metadata": {},
     "output_type": "execute_result"
    }
   ],
   "source": [
    "type(1+2j)"
   ]
  },
  {
   "cell_type": "code",
   "execution_count": 31,
   "id": "c5dc505d-8b70-43d6-87f0-de9ca6977d47",
   "metadata": {},
   "outputs": [
    {
     "name": "stdout",
     "output_type": "stream",
     "text": [
      "jio\n",
      " Jio\n"
     ]
    }
   ],
   "source": [
    "## variables are case senistive\n",
    "company = \"jio\"\n",
    "Company =\" Jio\"\n",
    "print(company)\n",
    "print(Company)"
   ]
  },
  {
   "cell_type": "code",
   "execution_count": 32,
   "id": "f67e5d77-5e29-4ff4-a957-f9790ab575c0",
   "metadata": {},
   "outputs": [
    {
     "data": {
      "text/plain": [
       "True"
      ]
     },
     "execution_count": 32,
     "metadata": {},
     "output_type": "execute_result"
    }
   ],
   "source": [
    "## Boolean\n",
    "True"
   ]
  },
  {
   "cell_type": "code",
   "execution_count": 33,
   "id": "d32769e9-0126-41e8-8a91-67f20392bf07",
   "metadata": {},
   "outputs": [
    {
     "data": {
      "text/plain": [
       "False"
      ]
     },
     "execution_count": 33,
     "metadata": {},
     "output_type": "execute_result"
    }
   ],
   "source": [
    "True and False"
   ]
  },
  {
   "cell_type": "code",
   "execution_count": 34,
   "id": "2bb4e712-6d8e-4c07-91b2-d9ddbc0b3a74",
   "metadata": {},
   "outputs": [
    {
     "data": {
      "text/plain": [
       "True"
      ]
     },
     "execution_count": 34,
     "metadata": {},
     "output_type": "execute_result"
    }
   ],
   "source": [
    "True or False"
   ]
  },
  {
   "cell_type": "code",
   "execution_count": 35,
   "id": "b81c7862-9f9f-4fac-b64e-42b2c137877e",
   "metadata": {},
   "outputs": [
    {
     "ename": "SyntaxError",
     "evalue": "invalid syntax (427692260.py, line 1)",
     "output_type": "error",
     "traceback": [
      "\u001b[0;36m  Cell \u001b[0;32mIn[35], line 1\u001b[0;36m\u001b[0m\n\u001b[0;31m    True not False\u001b[0m\n\u001b[0m             ^\u001b[0m\n\u001b[0;31mSyntaxError\u001b[0m\u001b[0;31m:\u001b[0m invalid syntax\n"
     ]
    }
   ],
   "source": [
    "True not False"
   ]
  },
  {
   "cell_type": "code",
   "execution_count": 38,
   "id": "313d05f5-7f2b-44ec-a020-d988cdb0de6a",
   "metadata": {},
   "outputs": [
    {
     "data": {
      "text/plain": [
       "bool"
      ]
     },
     "execution_count": 38,
     "metadata": {},
     "output_type": "execute_result"
    }
   ],
   "source": [
    "type (not True)"
   ]
  },
  {
   "cell_type": "code",
   "execution_count": 37,
   "id": "35dea932-519b-4d1f-99ee-8ea20beeb8af",
   "metadata": {},
   "outputs": [
    {
     "data": {
      "text/plain": [
       "True"
      ]
     },
     "execution_count": 37,
     "metadata": {},
     "output_type": "execute_result"
    }
   ],
   "source": [
    "not False"
   ]
  },
  {
   "cell_type": "code",
   "execution_count": 39,
   "id": "5c4a5792-776b-44d0-91df-42c47ebc1dca",
   "metadata": {},
   "outputs": [
    {
     "data": {
      "text/plain": [
       "False"
      ]
     },
     "execution_count": 39,
     "metadata": {},
     "output_type": "execute_result"
    }
   ],
   "source": [
    "bool (0)"
   ]
  },
  {
   "cell_type": "code",
   "execution_count": 40,
   "id": "521cb21a-0b10-4adf-9869-7395418c60cc",
   "metadata": {},
   "outputs": [
    {
     "data": {
      "text/plain": [
       "True"
      ]
     },
     "execution_count": 40,
     "metadata": {},
     "output_type": "execute_result"
    }
   ],
   "source": [
    "bool (1)"
   ]
  },
  {
   "cell_type": "code",
   "execution_count": 43,
   "id": "179ac3aa-df1e-4bbd-be06-f3a93a45edd0",
   "metadata": {},
   "outputs": [],
   "source": [
    "a=1\n",
    "if type(bool(a))==True:\n",
    "    print(\"True\")"
   ]
  },
  {
   "cell_type": "code",
   "execution_count": 44,
   "id": "62408566-ab41-4f63-af76-4995b35a50ce",
   "metadata": {},
   "outputs": [
    {
     "data": {
      "text/plain": [
       "False"
      ]
     },
     "execution_count": 44,
     "metadata": {},
     "output_type": "execute_result"
    }
   ],
   "source": [
    "type(bool(a))==True"
   ]
  },
  {
   "cell_type": "code",
   "execution_count": 45,
   "id": "851df3af-f7e3-4d5b-a9ab-be16d9bc7eec",
   "metadata": {},
   "outputs": [
    {
     "data": {
      "text/plain": [
       "23"
      ]
     },
     "execution_count": 45,
     "metadata": {},
     "output_type": "execute_result"
    }
   ],
   "source": [
    "int('23')"
   ]
  },
  {
   "cell_type": "code",
   "execution_count": 46,
   "id": "2729ceb9-a176-466b-aaf3-01f94c025878",
   "metadata": {},
   "outputs": [
    {
     "data": {
      "text/plain": [
       "int"
      ]
     },
     "execution_count": 46,
     "metadata": {},
     "output_type": "execute_result"
    }
   ],
   "source": [
    "type(int('23'))"
   ]
  },
  {
   "cell_type": "markdown",
   "id": "dd2ddb83-9f50-461e-b2e6-017de1e1f584",
   "metadata": {},
   "source": [
    "## Dynamic Typing"
   ]
  },
  {
   "cell_type": "code",
   "execution_count": 47,
   "id": "dea2351d-e7b8-4148-91f2-54c56408adba",
   "metadata": {},
   "outputs": [],
   "source": [
    "a=12\n",
    "str1=\"rohit\""
   ]
  },
  {
   "cell_type": "code",
   "execution_count": 48,
   "id": "9de7aaaa-b35c-4f87-af4c-f08786cbd267",
   "metadata": {},
   "outputs": [
    {
     "name": "stdout",
     "output_type": "stream",
     "text": [
      "<class 'int'>\n"
     ]
    }
   ],
   "source": [
    "print(type(a))"
   ]
  },
  {
   "cell_type": "code",
   "execution_count": 49,
   "id": "11b092a5-b6eb-43b4-9c1c-677562060dd2",
   "metadata": {},
   "outputs": [
    {
     "data": {
      "text/plain": [
       "1"
      ]
     },
     "execution_count": 49,
     "metadata": {},
     "output_type": "execute_result"
    }
   ],
   "source": [
    "int(1.54)"
   ]
  },
  {
   "cell_type": "code",
   "execution_count": null,
   "id": "bdead927-ccaa-48da-af8a-c6352bad43e0",
   "metadata": {},
   "outputs": [],
   "source": [
    "## concatenation between different types"
   ]
  },
  {
   "cell_type": "code",
   "execution_count": 51,
   "id": "1aeebdf7-ce03-4de6-b102-2caf5b9ad026",
   "metadata": {},
   "outputs": [
    {
     "data": {
      "text/plain": [
       "2"
      ]
     },
     "execution_count": 51,
     "metadata": {},
     "output_type": "execute_result"
    }
   ],
   "source": [
    "int(\"1\")+int(\"1\")"
   ]
  },
  {
   "cell_type": "code",
   "execution_count": 52,
   "id": "7e8a9050-4ed4-4e47-9137-e6826fba5fc3",
   "metadata": {},
   "outputs": [
    {
     "data": {
      "text/plain": [
       "'1111111111111111111111111111111111111111111111111111111111111111111111111111111111111111111111111111'"
      ]
     },
     "execution_count": 52,
     "metadata": {},
     "output_type": "execute_result"
    }
   ],
   "source": [
    "\"1\" * 100"
   ]
  },
  {
   "cell_type": "code",
   "execution_count": 53,
   "id": "e4180783-2dbb-4bbf-bd71-a1d75b9e2a7f",
   "metadata": {},
   "outputs": [
    {
     "data": {
      "text/plain": [
       "4"
      ]
     },
     "execution_count": 53,
     "metadata": {},
     "output_type": "execute_result"
    }
   ],
   "source": [
    "int(\"4\")\n"
   ]
  },
  {
   "cell_type": "code",
   "execution_count": 54,
   "id": "ec24fbe4-e1eb-4629-b1f4-794857f06fd8",
   "metadata": {},
   "outputs": [
    {
     "data": {
      "text/plain": [
       "12"
      ]
     },
     "execution_count": 54,
     "metadata": {},
     "output_type": "execute_result"
    }
   ],
   "source": [
    "a"
   ]
  },
  {
   "cell_type": "code",
   "execution_count": null,
   "id": "74b380fc-0145-4b1f-af30-79ec2a3c2717",
   "metadata": {},
   "outputs": [],
   "source": []
  }
 ],
 "metadata": {
  "kernelspec": {
   "display_name": "Python 3 (ipykernel)",
   "language": "python",
   "name": "python3"
  },
  "language_info": {
   "codemirror_mode": {
    "name": "ipython",
    "version": 3
   },
   "file_extension": ".py",
   "mimetype": "text/x-python",
   "name": "python",
   "nbconvert_exporter": "python",
   "pygments_lexer": "ipython3",
   "version": "3.10.8"
  }
 },
 "nbformat": 4,
 "nbformat_minor": 5
}
